{
 "cells": [
  {
   "cell_type": "code",
   "execution_count": 28,
   "metadata": {
    "collapsed": true
   },
   "outputs": [],
   "source": [
    "%matplotlib inline"
   ]
  },
  {
   "cell_type": "code",
   "execution_count": 1,
   "metadata": {
    "collapsed": false,
    "scrolled": true
   },
   "outputs": [
    {
     "name": "stdout",
     "output_type": "stream",
     "text": [
      "0   The Infernal Comedy\n",
      "\n",
      "John Malkovich makes his UMS debut portraying a dead serial killer who returns to the stage to present his autobiography in a public reading. Malkovich appears as part of a theatrical opera of sorts that features a 40-piece chamber orchestra and two sopranos telling the real-life story of Jack Unterweger, a convicted murderer and acclaimed prison poet. Pardoned by the Austrian president Kurt Waldheim in 1990 at the behest of the Viennese literati, Unterweger’s public “rehabilitation” was anything but — within two years, he had been arrested and convicted for the brutal murder of 11 prostitutes in three countries. This gripping performance uses arias and music by Gluck, Vivaldi, Mozart, Beethoven, Boccherini, and Haydn as the counterpoint to Malkovich’s chilling monologue, which shifts between reality and delusion.\n",
      "\n"
     ]
    }
   ],
   "source": [
    "import pandas as pd\n",
    "import numpy as np\n",
    "\n",
    "with open('descriptions.txt') as f:\n",
    "    lines = f.readlines()\n",
    "    \n",
    "print lines[0]\n",
    "print lines[1]"
   ]
  },
  {
   "cell_type": "code",
   "execution_count": 2,
   "metadata": {
    "collapsed": false
   },
   "outputs": [
    {
     "name": "stdout",
     "output_type": "stream",
     "text": [
      "                    title                                        description\n",
      "0     The Infernal Comedy  John Malkovich makes his UMS debut portraying ...\n",
      "1        Yuja Wang, piano  Chinese pianist Yuja Wang combines the spontan...\n",
      "2     London Philharmonic  The London Philharmonic returns for its first ...\n",
      "3        Hamburg Symphony  In 1971, French composer Olivier Messiaen was ...\n",
      "4    Chicago Symphony Orc  Wind players of the Chicago Symphony come toge...\n"
     ]
    }
   ],
   "source": [
    "df = pd.DataFrame(columns=['title', 'description'])\n",
    "\n",
    "numDescriptions = 0\n",
    "index = 0\n",
    "while numDescriptions < 143:\n",
    "    title = ' '.join(lines[index].strip().split(' ')[1:])\n",
    "    description = ''\n",
    "    index = index + 1\n",
    "    while not lines[index] == '\\n':\n",
    "        description = description + ' ' + lines[index]\n",
    "        index = index + 1\n",
    "    index = index + 1\n",
    "    \n",
    "    df.loc[numDescriptions] = [title, description.strip()]\n",
    "    numDescriptions = numDescriptions + 1\n",
    "    \n",
    "df.to_pickle('descriptions.pkl')\n",
    "\n",
    "print df.head()"
   ]
  },
  {
   "cell_type": "code",
   "execution_count": 3,
   "metadata": {
    "collapsed": false
   },
   "outputs": [],
   "source": [
    "# Extract bigram matrix\n",
    "\n",
    "from sklearn.feature_extraction.text import CountVectorizer, ENGLISH_STOP_WORDS\n",
    "\n",
    "vect = CountVectorizer(ngram_range=(1,2), stop_words = ENGLISH_STOP_WORDS)\n",
    "X = vect.fit_transform(df.description.values)"
   ]
  },
  {
   "cell_type": "code",
   "execution_count": 4,
   "metadata": {
    "collapsed": false
   },
   "outputs": [],
   "source": [
    "# Latent Dirichlet Allocation\n",
    "\n",
    "from sklearn.decomposition import LatentDirichletAllocation\n",
    "\n",
    "lda = LatentDirichletAllocation(n_topics=5,max_iter = 100)\n",
    "y = lda.fit_transform(X)"
   ]
  },
  {
   "cell_type": "code",
   "execution_count": 6,
   "metadata": {
    "collapsed": true
   },
   "outputs": [],
   "source": [
    "# Todo:\n",
    "# 1) Print out what words appear most frequently in each topic\n",
    "# 2) Scatter plot the documents (in 2-D or 3-D space)\n",
    "# 3) Gather statistics (e.g. the ratio of student/normal tickets for each topic)\n",
    "# 4) Try other topic modeling methods (tf-idf, SVD, other flavors of LDA, etc.)"
   ]
  },
  {
   "cell_type": "markdown",
   "metadata": {},
   "source": [
    "### Print out what words appear most frequently in each topic"
   ]
  },
  {
   "cell_type": "code",
   "execution_count": 5,
   "metadata": {
    "collapsed": true
   },
   "outputs": [],
   "source": [
    "# I copy this code from example on sklearn \n",
    "def print_top_words(model, feature_names, n_top_words):\n",
    "    for topic_idx, topic in enumerate(model.components_):\n",
    "        print(\"Topic #%d:\" % topic_idx)\n",
    "        print(\", \".join([feature_names[i]\n",
    "                        for i in topic.argsort()[:-n_top_words - 1:-1]]))\n",
    "    print()"
   ]
  },
  {
   "cell_type": "code",
   "execution_count": 6,
   "metadata": {
    "collapsed": false
   },
   "outputs": [
    {
     "name": "stdout",
     "output_type": "stream",
     "text": [
      "Topic #0:\n",
      "theater, theatre, national, national theatre, michigan, michigan theater, play, london, high, broadcasts, definition, broadcasts national, high definition, presented, theatre london, london presented, partnership michigan, definition broadcasts, presented partnership, partnership, award, new, new play, director, winning, award winning, coriolanus, takes, graham, nicholas, time, people, tickets, la, hytner, nicholas hytner, production, old, tour, city, change, james, christopher, political, threatens, ill, james graham, votes, mps, bennett\n",
      "Topic #1:\n",
      "performance, ums, music, dance, ballet, preljocaj, seats, tweet, new, world, set, ticket, office, ticket office, ballet preljocaj, biblical, tweet seats, years, work, created, company, performances, guardian, audience, 2010, says, white, snow, interested, snow white, including, astonishing, movement, season, action, concert, brass, time, musical, 2013, small, john, extraordinary, takes, intricate, global, huge, focus, angelin preljocaj, peace\n",
      "Topic #2:\n",
      "forsythe, dance, century, program, performed, ballet, william, art, william forsythe, thing, choreography, 19th century, 19th, flat, flat thing, classical, new, returns, works, repertoire, age, piece, create, chicago, company, director, york, new york, 20, frankfurt, sound, year, music, ensemble, set, visual, makes, true, night, inspired, text, dynamic, tribute, street, turned, ballett, modernist, ballett frankfurt, risk, 21st\n",
      "Topic #3:\n",
      "music, ums, new, flamenco, jazz, american, concert, musical, ann arbor, arbor, ann, york, new york, times, fela, composers, hall, york times, performance, voice, blake, center, best, detroit, year, chamber, orchestra, audiences, legendary, heart, symphony, michigan, album, diego, cigala, mavericks, american mavericks, world, quartet, concerts, run, music hall, francisco, san, san francisco, available, teen, contemporary, dance, john\n",
      "Topic #4:\n",
      "music, company, ballet, aspen, santa, aspen santa, santa fe, fe, contemporary, debut, new, theatre, ums, national, khan, ali, ali khan, time, dancers, director, fe ballet, asif, sufi, times, ums debut, stage, shakespeare, features, years, world, american, great, comedy, program, audiences, london, worldwide, musicians, aesthetic, national theatre, artistic, repertoire, royal, experience, works, theatre london, began, 11, later, court\n",
      "()\n"
     ]
    }
   ],
   "source": [
    "n_top_words = 50\n",
    "\n",
    "print_top_words(lda, vect.get_feature_names(), n_top_words)"
   ]
  },
  {
   "cell_type": "markdown",
   "metadata": {},
   "source": [
    "### Scatter plot the documents (in 2-D or 3-D space)"
   ]
  },
  {
   "cell_type": "code",
   "execution_count": 16,
   "metadata": {
    "collapsed": false
   },
   "outputs": [],
   "source": [
    "## determine which topic for each show\n",
    "doc_topics = []\n",
    "num_documents = y.shape[0]\n",
    "for doc in range(num_documents):\n",
    "    t = y[doc, :].argmax()\n",
    "    doc_topics.append([doc, df.title[doc], t, y[doc, t]])"
   ]
  },
  {
   "cell_type": "code",
   "execution_count": 41,
   "metadata": {
    "collapsed": false
   },
   "outputs": [
    {
     "data": {
      "text/html": [
       "<div>\n",
       "<table border=\"1\" class=\"dataframe\">\n",
       "  <thead>\n",
       "    <tr style=\"text-align: right;\">\n",
       "      <th></th>\n",
       "      <th>index</th>\n",
       "      <th>perf_name</th>\n",
       "      <th>topic_num</th>\n",
       "      <th>score</th>\n",
       "    </tr>\n",
       "  </thead>\n",
       "  <tbody>\n",
       "    <tr>\n",
       "      <th>0</th>\n",
       "      <td>0</td>\n",
       "      <td>The Infernal Comedy</td>\n",
       "      <td>4</td>\n",
       "      <td>149.189144664</td>\n",
       "    </tr>\n",
       "    <tr>\n",
       "      <th>1</th>\n",
       "      <td>1</td>\n",
       "      <td>Yuja Wang, piano</td>\n",
       "      <td>0</td>\n",
       "      <td>127.182401854</td>\n",
       "    </tr>\n",
       "    <tr>\n",
       "      <th>2</th>\n",
       "      <td>2</td>\n",
       "      <td>London Philharmonic</td>\n",
       "      <td>2</td>\n",
       "      <td>101.115447291</td>\n",
       "    </tr>\n",
       "    <tr>\n",
       "      <th>3</th>\n",
       "      <td>3</td>\n",
       "      <td>Hamburg Symphony</td>\n",
       "      <td>2</td>\n",
       "      <td>165.18899011</td>\n",
       "    </tr>\n",
       "    <tr>\n",
       "      <th>4</th>\n",
       "      <td>4</td>\n",
       "      <td>Chicago Symphony Orc</td>\n",
       "      <td>2</td>\n",
       "      <td>117.190036853</td>\n",
       "    </tr>\n",
       "  </tbody>\n",
       "</table>\n",
       "</div>"
      ],
      "text/plain": [
       "  index               perf_name  topic_num          score\n",
       "0     0     The Infernal Comedy          4  149.189144664\n",
       "1     1        Yuja Wang, piano          0  127.182401854\n",
       "2     2     London Philharmonic          2  101.115447291\n",
       "3     3        Hamburg Symphony          2   165.18899011\n",
       "4     4    Chicago Symphony Orc          2  117.190036853"
      ]
     },
     "execution_count": 41,
     "metadata": {},
     "output_type": "execute_result"
    }
   ],
   "source": [
    "df_topic = pd.DataFrame(np.array(doc_topics), columns = ['index', 'perf_name', 'topic_num', 'score'])\n",
    "df_topic.topic_num = df_topic.topic_num.astype(dtype = np.int16)\n",
    "df_topic.head()"
   ]
  },
  {
   "cell_type": "code",
   "execution_count": 42,
   "metadata": {
    "collapsed": false
   },
   "outputs": [
    {
     "data": {
      "text/plain": [
       "<seaborn.axisgrid.FacetGrid at 0x21263400>"
      ]
     },
     "execution_count": 42,
     "metadata": {},
     "output_type": "execute_result"
    },
    {
     "data": {
      "image/png": "[encoded data removed]",
      "text/plain": [
       "<matplotlib.figure.Figure at 0x212637b8>"
      ]
     },
     "metadata": {},
     "output_type": "display_data"
    }
   ],
   "source": [
    "## plot the distribution of the performance for each topic\n",
    "import seaborn as sns\n",
    "topic_range = range(5)\n",
    "sns.factorplot(x = 'topic_num', data = df_topic, kind = 'count', palette=\"BuPu\", size=6, aspect=1.5, order = topic_range)"
   ]
  },
  {
   "cell_type": "code",
   "execution_count": null,
   "metadata": {
    "collapsed": true
   },
   "outputs": [],
   "source": []
  }
 ],
 "metadata": {
  "kernelspec": {
   "display_name": "Python 2",
   "language": "python",
   "name": "python2"
  },
  "language_info": {
   "codemirror_mode": {
    "name": "ipython",
    "version": 2
   },
   "file_extension": ".py",
   "mimetype": "text/x-python",
   "name": "python",
   "nbconvert_exporter": "python",
   "pygments_lexer": "ipython2",
   "version": "2.7.11"
  }
 },
 "nbformat": 4,
 "nbformat_minor": 0
}
