{
 "cells": [
  {
   "cell_type": "code",
   "execution_count": 53,
   "metadata": {
    "collapsed": false
   },
   "outputs": [],
   "source": [
    "%matplotlib inline\n",
    "\n",
    "import wikipedia\n",
    "import pandas as pd\n",
    "import numpy as np\n",
    "import matplotlib.pyplot as plt\n",
    "\n",
    "from sklearn.feature_extraction.text import CountVectorizer, ENGLISH_STOP_WORDS\n",
    "from sklearn.decomposition import LatentDirichletAllocation"
   ]
  },
  {
   "cell_type": "code",
   "execution_count": 54,
   "metadata": {
    "collapsed": false
   },
   "outputs": [],
   "source": [
    "f = pd.read_csv('full_performance_names.csv', header=None, names=['index','perf_name'])"
   ]
  },
  {
   "cell_type": "code",
   "execution_count": 55,
   "metadata": {
    "collapsed": false
   },
   "outputs": [],
   "source": [
    "titles = f.perf_name.tolist()"
   ]
  },
  {
   "cell_type": "code",
   "execution_count": 56,
   "metadata": {
    "collapsed": true
   },
   "outputs": [],
   "source": [
    "#get rid of NT (National Theatre) in front of some of the names\n",
    "titles = [t[4:] if t[:3]==\"NT -\" else t for t in titles]"
   ]
  },
  {
   "cell_type": "code",
   "execution_count": 57,
   "metadata": {
    "collapsed": false
   },
   "outputs": [],
   "source": [
    "with open(\"descriptions.txt\") as desc:\n",
    "    descriptions = desc.readlines()\n",
    "descs = []\n",
    "tempDesc = ''\n",
    "for description in descriptions:\n",
    "    if description == '\\n':\n",
    "        descs.append(tempDesc)\n",
    "        tempDesc = ''\n",
    "    else:\n",
    "        tempDesc += description[:-1].decode('utf-8')\n",
    "descs.append(tempDesc)"
   ]
  },
  {
   "cell_type": "code",
   "execution_count": 58,
   "metadata": {
    "collapsed": true
   },
   "outputs": [],
   "source": [
    "manually_fixed_wiki = {\n",
    "    'The Silk Road Ensemble': 'Joseph Gramley',\n",
    "    'Royal Shakespeare Company Live in HD: Richard II': 'Richard the Second',\n",
    "    'New Century Chamber Orchestra: Nadja Salerno-Sonnenberg  violin and leader': 'New Century Chamber Orchestra',\n",
    "    '1927: The Animals and Children Took to the Streets': 'Wole Oguntokun',\n",
    "    'Kodo':'Kodo (taiko group)',\n",
    "    'One Night in Bamako': 'Bassekou Kouyate',\n",
    "    'One Man, Two Gu': 'One Man, Two Guvnors',\n",
    "    'People': 'no page',\n",
    "    'FAM -Aspen Santa Fe':'no page',\n",
    "    'AnDa Union': 'no page',\n",
    "    'Collaborators': 'Collaborators (play)',\n",
    "    'Chamber Ensemble of the Shanghai Chinese Orchestra':'Shanghai Chinese Orchestra'\n",
    "}"
   ]
  },
  {
   "cell_type": "code",
   "execution_count": null,
   "metadata": {
    "collapsed": false
   },
   "outputs": [],
   "source": []
  },
  {
   "cell_type": "code",
   "execution_count": 59,
   "metadata": {
    "collapsed": false
   },
   "outputs": [
    {
     "name": "stdout",
     "output_type": "stream",
     "text": [
      "('The Infernal Comedy', '*', u'Musica Angelica Baroque Orchestra')\n",
      "('Yuja Wang', '*', u'Yuja Wang')\n",
      "('London Philharmonic', '*', u'London Philharmonic Orchestra')\n",
      "('Hamburg Symphony', '*', u'Hamburger Symphoniker')\n",
      "('Chicago Symphony Orchestra', '*', u'Chicago Symphony Orchestra')\n",
      "('San Francisco Symphony', '*', u'San Francisco Symphony')\n",
      "('Pavel Haas Quartet', '*', u'Pavel Haas Quartet')\n",
      "('Ballet Preljocaj', '*', u'Angelin Preljocaj')\n",
      "('Joshua Bell', '*', u'Joshua Bell')\n",
      "('Murray Perahia', '*', u'Murray Perahia')\n",
      "('Mariinsky Orchestra', '*', u'Mariinsky Theatre Orchestra')\n",
      "('Detroit Symphony Orchestra', '*', u'Detroit Symphony Orchestra')\n",
      "('New York Philharmonic', '*', u'New York Philharmonic')\n",
      "('Artemis Quartet', '*', u'Artemis Quartet')\n",
      "('Anne-Sophie Mutter,', '*', u'Anne-Sophie Mutter')\n",
      "('Bobby McFerrin', '*', u'Bobby McFerrin')\n",
      "('Alison Balsom', '*', u'Alison Balsom')\n",
      "('SITI: Trojan Women', '*', u'Anne Bogart')\n",
      "('Audra McDonald', '*', u'Audra McDonald')\n",
      "('Andras Schiff', '*', u'Andr\\xe1s Schiff')\n",
      "(\"Apollo's Fire\", '*', u\"Apollo's Fire\")\n",
      "('Joshua Bell, violin', '*', u'Joshua Bell')\n",
      "('St Petersburg Philharmonic', '*', u'Saint Petersburg Philharmonic Orchestra')\n",
      "('Israel Philharmonic', '*', u'Israel Philharmonic Orchestra')\n",
      "('Akademie fur Alte Musik Berlin', '*', u'Akademie f\\xfcr Alte Musik Berlin')\n",
      "('Olga Kern', '*', u'Olga Kern')\n",
      "('Kremerata Baltica', '*', u'Kremerata Baltica')\n",
      "('Tara Erraught, mezzo', '*', u'Tara Erraught')\n",
      "('Denis Matsuev', '*', u'Denis Matsuev')\n",
      "(\"Handel's Radamisto\", '*', u'Tiridates I of Armenia')\n",
      "('Random Dance', '*', u'Wayne McGregor Random Dance')\n",
      "('Hagen Quartet', '*', u'Hagen Quartet')\n",
      "(\"Handel's Messiah\", '*', u'Messiah (Handel)')\n",
      "('Propeller: Twelfth Night', '*', u'Propeller (theatre company)')\n",
      "('St Lawrence Quartet', '*', u'St. Lawrence String Quartet')\n",
      "('Belcea Quartet', '*', u'Belcea Quartet')\n",
      "('The Audience', '*', u'Audience')\n",
      "('Gate Theatre', '*', u'Gate Theatre')\n",
      "('Stile Antico', '*', u'Stile antico')\n",
      "('Einstein on the Beach', '*', u'Einstein on the Beach')\n",
      "('Chamber Ensemble of the Shanghai Chinese Orchestra', '*', u'Shanghai Chinese Orchestra')\n",
      "('Zakir Hussain & Masters of Percussion', '*', u'Zakir Hussain (musician)')\n",
      "('Aspen Santa Fe Ballet', '*', u'Aspen Santa Fe Ballet')\n",
      "('Rhinoceros', '*', u'Rhinoceros')\n",
      "('Gilberto Gil', '*', u'Gilberto Gil')\n",
      "('Prudencia Hart', '*', u'David Greig (dramatist)')\n",
      "('Martha Graham Dance', '*', u'Martha Graham Dance Company')\n",
      "('Mariachi Vargas de Tecalitlan', '*', u'Vargas de Tecalitl\\xe1n')\n",
      "('The Silk Road Ensemble', '*', u'Joseph Gramley')\n",
      "('Ragamala Dance', '*', u'Shubhendra Rao')\n",
      "('Complicite', '*', u'Complicite')\n",
      "('Chris Thile', '*', u'Chris Thile')\n",
      "('Blind Summit', '*', u'Pitchoff Mountain')\n",
      "('Royal Shakespeare Company Live in HD: Richard II', '*', u'Richard the Second')\n",
      "('State Symphony Capella of Russia', '*', u'State Symphony Capella of Russia')\n",
      "('New Century Chamber Orchestra: Nadja Salerno-Sonnenberg  violin and leader', '*', u'New Century Chamber Orchestra')\n",
      "('Emerson String Quartet', '*', u'Emerson String Quartet')\n",
      "('Les Violons du Roy', '*', u'Les Violons du Roy')\n",
      "('Mark Morris Dance Group', '*', u'Mark Morris (choreographer)')\n",
      "('Takacs Quartet', '*', u'Tak\\xe1cs Quartet')\n",
      "('Ahmad Jamal', '*', u'Ahmad Jamal')\n",
      "('Goran Bregovic', '*', u'Goran Bregovi\\u0107')\n",
      "('Cloud Gate Dance Theatre', '*', u'Cloud Gate Dance Theatre')\n",
      "('Diego El Cigala', '*', u'Diego El Cigala')\n",
      "('A Night in Treme', '*', u'Treme (TV series)')\n",
      "('Sweet Honey In The Rock', '*', u'Sweet Honey in the Rock')\n",
      "('Jazz at Lincoln Center', '*', u'Jazz at Lincoln Center')\n",
      "('The Andersen Project', '*', u'Jean-S\\xe9bastien C\\xf4t\\xe9')\n",
      "('From Cass Corridor', '*', u'Cass Corridor')\n",
      "('JLCO with Wynton', '*', u'Essentially Ellington High School Jazz Band Competition and Festival')\n",
      "('Angelique Kidjo', '*', u'Ang\\xe9lique Kidjo')\n",
      "('Amjad Ali Khan', '*', u'Amjad Ali Khan')\n",
      "('Hamid Al-Saadi', '*', u'Amir ElSaffar')\n",
      "('Esperanza Spalding', '*', u'Esperanza Spalding')\n",
      "('Hubbard Street Dance', '*', u'Hubbard Street Dance Chicago')\n",
      "('Manganiyar Seduction', '*', u'Manganiar')\n",
      "('Ukulele Orchestra of Great Britain', '*', u'Ukulele Orchestra of Great Britain')\n",
      "('Jerusalem String Quartet', '*', u'Jerusalem Quartet')\n",
      "('Bullet Catch', '*', u'Bullet catch')\n",
      "('Kronos Quartet', '*', u'Kronos Quartet')\n",
      "('Dianne Reeves Quartet', '*', u'Monterey Jazz Festival')\n",
      "('Kodo', '*', u'Kodo (taiko group)')\n",
      "('Propeller: Taming of the Shrew', '*', u'The Taming of the Shrew in performance')\n",
      "('1927: The Animals and Children Took to the Streets', '*', u'Wole Oguntokun')\n",
      "('Othello', '*', u'Othello')\n",
      "('Compagnie Kafig', '*', u'Hip-hop theater')\n",
      "('Theatre des Bouffes', '*', u'Th\\xe9\\xe2tre des Bouffes-Parisiens')\n",
      "('Sabine Meyer', '*', u'Sabine Meyer')\n",
      "('Kidd Pivot', '*', u'Kidd Pivot')\n",
      "('Berlin Philharmonic', '*', u'Berlin Philharmonic')\n",
      "('She Stoops', '*', u'She Stoops to Conquer')\n",
      "('Macbeth', '*', u'Macbeth')\n",
      "('Canadian Brass', '*', u'Canadian Brass')\n",
      "('Charles Lloyd Quartet', '*', u'Journey Within')\n",
      "('The Magistrate', '*', u'The Magistrate (play)')\n",
      "(\"The King's Singers\", '*', u\"The King's Singers\")\n",
      "('Schola Cantorum de Venezuela', '*', u'Schola Cantorum de Venezuela')\n",
      "('Ariel Quartet', '*', u'Ariel String Quartet')\n",
      "('St Lawrence String Quartet', '*', u'St. Lawrence String Quartet')\n",
      "('Elias String Quartet', '*', u'Wigmore Hall Live')\n",
      "('Brooklyn Rider', '*', u'Brooklyn Rider')\n",
      "('Collaborators', '*', u'Collaborators (play)')\n",
      "('The Tallis Scholars', '*', u'The Tallis Scholars')\n",
      "(\"Brahms's Requiem\", '*', u'Grex Vocalis')\n",
      "('Los Angeles Guitar Quartet', '*', u'Los Angeles Guitar Quartet')\n",
      "('War Horse', '*', u'Horses in warfare')\n",
      "('Cheikh Lo', '*', u'Cheikh L\\xf4')\n",
      "('Dave Holland', '*', u'Dave Holland')\n",
      "('Gabriel Kahane', '*', u'Gabriel Kahane')\n",
      "('Suzhou Kun Troupe', '*', u'Kunqu')\n",
      "(\"Jason Moran's Fats Waller Dance Party\", '*', u'Jason Moran (musician)')\n",
      "('Dan Zanes and Friend', '*', u'Low Bridge (song)')\n",
      "('Max Raabe', '*', u'Max Raabe')\n",
      "('Last of the Haussmans', '*', u'Stephen Beresford')\n",
      "('Timon of Athens', '*', u'Timon of Athens')\n",
      "('Colin Stetson', '*', u'Colin Stetson')\n",
      "('Fred Hersch Trio', '*', u'Fred Hersch')\n",
      "('One Night in Bamako', '*', u'Bassekou Kouyate')\n",
      "('Alfredo Rodriguez', '*', u'Alfredo Rodr\\xedguez')\n",
      "('Beijing Guitar Duo', '*', u'Su Meng')\n",
      "('One Man, Two Gu', '*', u'One Man, Two Guvnors')\n",
      "('Frankenstein', '*', u'Frankenstein')\n",
      "('The Kitchen', '*', u'The Kitchen')\n",
      "('The Comedy of Errors', '*', u'The Comedy of Errors')\n",
      "('Mavericks All Access', '*', u'Texas\\u2013Arlington Mavericks football')\n",
      "('This House', '*', u'This House (Tracie Spencer song)')\n",
      "('The Curious Incident of the Dog in the Night-Time', '*', u'The Curious Incident of the Dog in the Night-Time')\n",
      "('Coriolanus', '*', u'Coriolanus')\n",
      "('Steve Lehman Octet', '*', u'Pi Recordings')\n",
      "('Asif Ali Khan', '*', u'Asif Durrani')\n",
      "('DC: Hubbard', '*', u'Lee Lawrie')\n",
      "('James Blake', '*', u'James Blake (musician)')\n",
      "(\"Breakin' Curfew\", '*', u'1984 in music')\n",
      "('Fela!', '*', u'Fela!')\n",
      "('DC: Ballet Preljocaj', '*', u'Mary Jordan (filmmaker)')\n",
      "('Diego El Cigala', '*', u'Diego El Cigala')\n",
      "('Usher Party', '*', u\"Shakin' It 4 Daddy\")\n"
     ]
    }
   ],
   "source": [
    "#augment current descriptions with information from wikipedia\n",
    "for i in range(len(titles)):\n",
    "    \n",
    "    if titles[i] in manually_fixed_wiki.keys():\n",
    "        temp_title = manually_fixed_wiki[titles[i]]\n",
    "    else:\n",
    "        temp_title = titles[i]\n",
    "    \n",
    "    if temp_title != 'no page': \n",
    "        searchResults = wikipedia.search(temp_title)\n",
    "\n",
    "        #use first search result\n",
    "        if(len(searchResults) > 0):\n",
    "            try:\n",
    "                pageContent = wikipedia.page(searchResults[0]).content\n",
    "                print(titles[i],'*',searchResults[0])\n",
    "            except wikipedia.exceptions.DisambiguationError as e:\n",
    "                try: #TODO: something really weird going on with a few cases of multiple disambiguation errors\n",
    "                    pageContent = wikipedia.page(e.options[0]).content\n",
    "                    print(titles[i],'*',e.options[0])\n",
    "                except:\n",
    "                    ;#Alright, give up\n",
    "\n",
    "            descs[i] += pageContent"
   ]
  },
  {
   "cell_type": "code",
   "execution_count": 62,
   "metadata": {
    "collapsed": false
   },
   "outputs": [
    {
     "name": "stdout",
     "output_type": "stream",
     "text": [
      "(144, 3715)\n"
     ]
    }
   ],
   "source": [
    "# Extract bigram matrix\n",
    "vect = CountVectorizer(ngram_range=(1, 1), stop_words = ENGLISH_STOP_WORDS, min_df = 5)\n",
    "X = vect.fit_transform(descs)\n",
    "\n",
    "print(X.shape)"
   ]
  },
  {
   "cell_type": "code",
   "execution_count": 68,
   "metadata": {
    "collapsed": false
   },
   "outputs": [
    {
     "name": "stdout",
     "output_type": "stream",
     "text": [
      "Topic #0:\n",
      "play shakespeare theatre production christopher book macbeth london novel story musical mother life comedy film national text version stage directed\n",
      "Topic #1:\n",
      "orchestra music symphony philharmonic hall piano brass recording recordings conductor concerto concert concerts violin mozart 2006 beethoven award new conducted\n",
      "Topic #2:\n",
      "new music york performed american university work arts works world state season century national group horses history city john building\n",
      "Topic #3:\n",
      "new festival film jordan york art dance jazz 2014 school water ballet company city 2011 international project 2010 2013 2012\n",
      "Topic #4:\n",
      "singer album music blake quartet released song american december jazz love new july september year february single january october time\n",
      "\n"
     ]
    }
   ],
   "source": [
    "#LDA\n",
    "lda = LatentDirichletAllocation(n_topics=5, max_iter=50)\n",
    "y = lda.fit_transform(X)\n",
    "\n",
    "def print_top_words(model, feature_names, n_top_words):\n",
    "    for topic_idx, topic in enumerate(model.components_):\n",
    "        print(\"Topic #%d:\" % topic_idx)\n",
    "        print(\" \".join([feature_names[i]\n",
    "                        for i in topic.argsort()[:-n_top_words - 1:-1]]))\n",
    "    print\n",
    "\n",
    "print_top_words(lda, vect.get_feature_names(), 20)"
   ]
  },
  {
   "cell_type": "code",
   "execution_count": 69,
   "metadata": {
    "collapsed": false
   },
   "outputs": [],
   "source": [
    "topics = y.argmax(axis = 1)\n",
    "df_topic = pd.DataFrame(topics, columns=['topic_num'])\n",
    "df_topic['perf_name'] = f.perf_name"
   ]
  },
  {
   "cell_type": "code",
   "execution_count": 70,
   "metadata": {
    "collapsed": false
   },
   "outputs": [
    {
     "data": {
      "text/plain": [
       "<seaborn.axisgrid.FacetGrid at 0x215d6278>"
      ]
     },
     "execution_count": 70,
     "metadata": {},
     "output_type": "execute_result"
    },
    {
     "data": {
      "image/png": "[encoded data removed]",
      "text/plain": [
       "<matplotlib.figure.Figure at 0x1fe41cc0>"
      ]
     },
     "metadata": {},
     "output_type": "display_data"
    }
   ],
   "source": [
    "topic_range = range(5)\n",
    "sns.factorplot(x = 'topic_num', data = df_topic, kind = 'count', palette=\"BuPu\", size=6, aspect=1.5, order = topic_range)"
   ]
  }
 ],
 "metadata": {
  "kernelspec": {
   "display_name": "Python 2",
   "language": "python",
   "name": "python2"
  },
  "language_info": {
   "codemirror_mode": {
    "name": "ipython",
    "version": 2
   },
   "file_extension": ".py",
   "mimetype": "text/x-python",
   "name": "python",
   "nbconvert_exporter": "python",
   "pygments_lexer": "ipython2",
   "version": "2.7.11"
  }
 },
 "nbformat": 4,
 "nbformat_minor": 0
}
