{
 "cells": [
  {
   "cell_type": "code",
   "execution_count": 100,
   "metadata": {
    "collapsed": false
   },
   "outputs": [],
   "source": [
    "%matplotlib inline\n",
    "\n",
    "import wikipedia\n",
    "import pandas as pd\n",
    "import numpy as np\n",
    "import matplotlib.pyplot as plt\n",
    "\n",
    "from sklearn.feature_extraction.text import CountVectorizer, ENGLISH_STOP_WORDS\n",
    "from sklearn.decomposition import LatentDirichletAllocation"
   ]
  },
  {
   "cell_type": "code",
   "execution_count": 93,
   "metadata": {
    "collapsed": false
   },
   "outputs": [],
   "source": [
    "#because my version of pandas is different than the version that descriptions.pkl was created with\n",
    "with open(\"descriptions.txt\") as desc:\n",
    "    descriptions = desc.readlines()\n",
    "titles = []\n",
    "descs = []\n",
    "tempDesc = ''\n",
    "for description in descriptions:\n",
    "    if description[0].isnumeric():\n",
    "        titles.append(description[4:-1])\n",
    "    elif description == '\\n':\n",
    "        descs.append(tempDesc)\n",
    "        tempDesc = ''\n",
    "    else:\n",
    "        tempDesc += description[:-1]\n",
    "descs.append(tempDesc)"
   ]
  },
  {
   "cell_type": "code",
   "execution_count": 94,
   "metadata": {
    "collapsed": false
   },
   "outputs": [],
   "source": [
    "#get rid of NT (National Theatre) in front of some of the names\n",
    "titles = [t[4:] if t[:3]==\"NT -\" else t for t in titles]"
   ]
  },
  {
   "cell_type": "code",
   "execution_count": 95,
   "metadata": {
    "collapsed": true
   },
   "outputs": [
    {
     "name": "stdout",
     "output_type": "stream",
     "text": [
      "The Infernal Comedy * Musica Angelica Baroque Orchestra\n",
      "Yuja Wang, piano * Yuja Wang discography\n",
      "London Philharmonic * London Philharmonic Orchestra\n",
      "Hamburg Symphony * Hamburger Symphoniker\n",
      "Chicago Symphony Orc * Gary Gygax\n",
      "San Francisco Sympho * Boston University Tanglewood Institute\n",
      "Pavel Haas Quartet * Pavel Haas Quartet\n",
      "Ballet Preljocaj * Angelin Preljocaj\n",
      "Joshua Bell * Joshua Bell\n",
      "Murray Perahia * Murray Perahia\n",
      "Mariinsky Orchestra * Mariinsky Theatre Orchestra\n",
      "Detroit Symphony Orc * The Accidentals\n",
      "New York Philharmoni * Alan Walker (musicologist)\n",
      "Artemis Quartet * Artemis Quartet\n",
      "Anne-Sophie Mutter,  * Anne-Sophie Mutter\n",
      "Bobby McFerrin * Bobby McFerrin\n",
      "Alison Balsom * Alison Balsom\n",
      "SITI: Trojan Women * Anne Bogart\n",
      "Audra McDonald * Audra McDonald\n",
      "Andras Schiff, piano * Piano Sonata in F minor, D 625 (Schubert)\n",
      "Apollo's Fire * Apollo's Fire\n",
      "Joshua Bell, violin * Joshua Bell\n",
      "Israel Philharmonic * Israel Philharmonic Orchestra\n",
      "Akademie fur Alte Mu * List of art museums\n",
      "Olga Kern, piano * Rochester Philharmonic Orchestra\n",
      "Kremerata Baltica * Kremerata Baltica\n",
      "Tara Erraught, mezzo * Tara Erraught\n",
      "Denis Matsuev, piano * Denis Matsuev\n",
      "Handel's Radamisto * Tiridates I of Armenia\n",
      "Random Dance * Wayne McGregor Random Dance\n",
      "Hagen Quartet * Hagen Quartet\n",
      "Handel's Messiah * Messiah (Handel)\n",
      "Propeller: Twelfth N * Edward Hall (director)\n",
      "St Lawrence Quartet * St. Lawrence String Quartet\n",
      "Belcea Quartet * Belcea Quartet\n",
      "NT - The Audience * Nicholas Hytner\n",
      "Gate Theatre * Gate Theatre\n",
      "Stile Antico * Stile antico\n",
      "Einstein on the Beac * Tim Bishop\n",
      "Chamber Ens of the S * École nationale supérieure des Beaux-Arts\n",
      "Zakir Hussain * Zakir Hussain (musician)\n",
      "Rhinoceros * Rhinoceros\n",
      "Gilberto Gil * Gilberto Gil\n",
      "Prudencia Hart * David Greig (dramatist)\n",
      "Martha Graham Dance * Martha Graham Dance Company\n",
      "Mariachi Vargas de T * Mariachi\n",
      "Ragamala Dance * Shubhendra Rao\n",
      "Complicite * Complicite\n",
      "Chris Thile * Chris Thile\n",
      "Blind Summit * Pitchoff Mountain\n",
      "RSC in HD - Richard * Charles Dance\n",
      "State Symphony Capel * 1824\n",
      "New Century Chamber * New Century Chamber Orchestra\n",
      "Emerson String Quart * Quartal and quintal harmony\n",
      "Les Violons du Roy * Les Violons du Roy\n",
      "Mark Morris Dance Gr * 1946 All-American Girls Professional Baseball League season\n",
      "Takacs Quartet * Takács Quartet\n",
      "Ahmad Jamal * Ahmad Jamal\n",
      "Goran Bregovic * Goran Bregović\n",
      "Cloud Gate Dance The * Cloud Gate Dance Theatre\n",
      "Diego El Cigala * Diego El Cigala\n",
      "AnDa Union * World music\n",
      "A Night in Treme * Treme (TV series)\n",
      "Sweet Honey In The R * Honey\n",
      "Jazz at Lincoln Cent * Charlie Parker\n",
      "The Andersen Project * Jean-Sébastien Côté\n",
      "From Cass Corridor * Cass Corridor\n",
      "JLCO with Wynton * Essentially Ellington High School Jazz Band Competition and Festival\n",
      "Angelique Kidjo * Angélique Kidjo\n",
      "Amjad Ali Khan * Amjad Ali Khan\n",
      "Hamid Al-Saadi * Amir ElSaffar\n",
      "Esperanza Spalding * Esperanza Spalding\n",
      "Hubbard Street Dance * Hubbard Street Dance Chicago\n",
      "Manganiyar Seduction * Manganiar\n",
      "Ukulele Orchestra of * Ukulele Orchestra of Great Britain\n",
      "Jerusalem String Qua * Joseph Leopold Eybler\n",
      "Bullet Catch * Bullet catch\n",
      "Kronos Quartet * Kronos Quartet\n",
      "Kodo * Imperial Way Faction\n",
      "Propeller: Taming of * Propeller (theatre company)\n",
      "1927: The Animals an * Chaim Elazar Spira\n",
      "NT - Othello * National Theatre Live\n",
      "Compagnie Kafig * Hip-hop theater\n",
      "Theatre des Bouffes * Théâtre des Bouffes-Parisiens\n",
      "Sabine Meyer * Sabine Meyer\n",
      "Kidd Pivot * Kidd Pivot\n",
      "Berlin Philharmonic * Berlin Philharmonic\n",
      "NT - She Stoops * National Theatre Live\n",
      "NT - Macbeth * National Theatre Live\n",
      "Canadian Brass * Canadian Brass\n",
      "Charles Lloyd Quarte * Bernie Kosar\n",
      "NT - The Magistrate * Community court\n",
      "The King's Singers * The King's Singers\n",
      "Schola Cantorum of V * Ana María Raga\n",
      "Ariel Quartet * Ariel String Quartet\n",
      "St Lawrence String Q * List of string quartet ensembles\n",
      "Elias String Quartet * Wigmore Hall Live\n",
      "Brooklyn Rider * Brooklyn Rider\n",
      "NT - Collaborators * Tingulli 3nt\n",
      "The Tallis Scholars * The Tallis Scholars\n",
      "Brahms's Requiem * Grex Vocalis\n",
      "Los Angeles Guitar Q * Metallica\n",
      "NT - War Horse * National Theatre Live\n",
      "Cheikh Lo * Cheikh Lô\n",
      "Dave Holland * Dave Holland\n",
      "Gabriel Kahane * Gabriel Kahane\n",
      "Suzhou Kun Troupe * Kunqu\n",
      "Jason Moran's Fats W * Jason Moran (musician)\n",
      "Dan Zanes and Friend * Low Bridge (song)\n",
      "Max Raabe * Max Raabe\n",
      "NT - Last of the Hau * Tsuen Wan Station\n",
      "NT - Timon of Athens * National Theatre Live\n",
      "Colin Stetson * Colin Stetson\n",
      "Fred Hersch Trio * Fred Hersch\n",
      "One Night in Bamako * Transport in Mali\n",
      "Alfredo Rodriguez & * Alfredo Rodríguez (pianist born 1985)\n",
      "Beijing Guitar Duo * Su Meng\n",
      "NT - One Man, Two Gu * 2009–10 in Hong Kong football\n",
      "NT - Frankenstein * National Theatre Live\n",
      "NT - The Kitchen * 2015 Cleveland Browns season\n",
      "NT - The Comedy of E * Not the Nine O'Clock News\n",
      "Mavericks All Access * Texas–Arlington Mavericks football\n",
      "NT - People * Troppo Architects\n",
      "NT - This House * List of castles in Edinburgh\n",
      "NT - The Curious Inc * Entertainment\n",
      "NT - Coriolanus * National Theatre Live\n",
      "Steve Lehman Octet * Pi Recordings\n",
      "Asif Ali Khan * Asif Durrani\n",
      "DC: Hubbard * Lee Lawrie\n",
      "FAM -Aspen Santa Fe * List of neighborhoods in Mexico City\n",
      "James Blake * James Blake (musician)\n",
      "Breakin' Curfew * 1984 in music\n",
      "Fela! * Fela!\n",
      "DC: Ballet Preljocaj * Mary Jordan (filmmaker)\n",
      "Diego - post perf * Donald Freed\n",
      "Usher party * Shakin' It 4 Daddy\n"
     ]
    },
    {
     "name": "stderr",
     "output_type": "stream",
     "text": [
      "//anaconda/lib/python3.5/site-packages/bs4/__init__.py:166: UserWarning: No parser was explicitly specified, so I'm using the best available HTML parser for this system (\"lxml\"). This usually isn't a problem, but if you run this code on another system, or in a different virtual environment, it may use a different parser and behave differently.\n",
      "\n",
      "To get rid of this warning, change this:\n",
      "\n",
      " BeautifulSoup([your markup])\n",
      "\n",
      "to this:\n",
      "\n",
      " BeautifulSoup([your markup], \"lxml\")\n",
      "\n",
      "  markup_type=markup_type))\n"
     ]
    }
   ],
   "source": [
    "#augment current descriptions with information from wikipedia\n",
    "for i in range(len(titles)):\n",
    "    searchResults = wikipedia.search(titles[i])\n",
    "    \n",
    "    #use first search result\n",
    "    if(len(searchResults) > 0):\n",
    "        try:\n",
    "            pageContent = wikipedia.page(searchResults[0]).content\n",
    "            print(titles[i],'*',searchResults[0])\n",
    "        except wikipedia.exceptions.DisambiguationError as e:\n",
    "            try: #TODO: something really weird going on with a few cases of multiple disambiguation errors\n",
    "                pageContent = wikipedia.page(e.options[0]).content\n",
    "                print(titles[i],'*',e.options[0])\n",
    "            except:\n",
    "                ;#Alright, give up\n",
    "            \n",
    "        descs[i] += pageContent"
   ]
  },
  {
   "cell_type": "code",
   "execution_count": 99,
   "metadata": {
    "collapsed": false
   },
   "outputs": [
    {
     "name": "stdout",
     "output_type": "stream",
     "text": [
      "(144, 3605)\n"
     ]
    }
   ],
   "source": [
    "# Extract bigram matrix\n",
    "vect = CountVectorizer(ngram_range=(1, 1), stop_words = ENGLISH_STOP_WORDS, min_df = 5)\n",
    "X = vect.fit_transform(descs)\n",
    "\n",
    "print(X.shape)"
   ]
  },
  {
   "cell_type": "code",
   "execution_count": 103,
   "metadata": {
    "collapsed": false
   },
   "outputs": [
    {
     "name": "stdout",
     "output_type": "stream",
     "text": [
      "Topic #0:\n",
      "major piano orchestra flat minor concerto op conductor denis clarinet rochester music mozart string 12 symphony sonata quintet philharmonic dances\n",
      "Topic #1:\n",
      "series news clock episodes comedy lloyd episode broadcast smith time bbc sketches harmony cast released television jones john second fourth\n",
      "Topic #2:\n",
      "museum san art del santa la los el city arts national las new nebraska gallery mexico state francisco building york\n",
      "Topic #3:\n",
      "quartet music string choir op violin piano king group quartets beethoven singers works award horn years recording choral international concerto\n",
      "Topic #4:\n",
      "singer album music blake released song new american band december july year love september february january jazz time october april\n",
      "Topic #5:\n",
      "orchestra music new jazz school 2006 ensemble brass 2010 symphony 2005 york high 2004 2008 2012 concert 2014 2009 2013\n",
      "Topic #6:\n",
      "college regular yards des miami cleveland 000 1985 pick prix career island ohio football league bowl championship season years passing\n",
      "Topic #7:\n",
      "entertainment music new film example world dance theatre audience forms performance festival used york public century games work award including\n",
      "Topic #8:\n",
      "handel game court community season new messiah line series time early field performance opened quarter work catch 10 week years\n",
      "Topic #9:\n",
      "theatre live national season 2015 2011 march june 2014 broadcast 2010 2013 september october january 2012 productions production royal bell\n"
     ]
    }
   ],
   "source": [
    "#LDA\n",
    "lda = LatentDirichletAllocation(n_topics=10, max_iter=10)\n",
    "y = lda.fit_transform(X)\n",
    "\n",
    "def print_top_words(model, feature_names, n_top_words):\n",
    "    for topic_idx, topic in enumerate(model.components_):\n",
    "        print(\"Topic #%d:\" % topic_idx)\n",
    "        print(\" \".join([feature_names[i]\n",
    "                        for i in topic.argsort()[:-n_top_words - 1:-1]]))\n",
    "    print\n",
    "\n",
    "print_top_words(lda, vect.get_feature_names(), 20)"
   ]
  },
  {
   "cell_type": "code",
   "execution_count": null,
   "metadata": {
    "collapsed": true
   },
   "outputs": [],
   "source": []
  }
 ],
 "metadata": {
  "kernelspec": {
   "display_name": "Python 2",
   "language": "python",
   "name": "python2"
  },
  "language_info": {
   "codemirror_mode": {
    "name": "ipython",
    "version": 2
   },
   "file_extension": ".py",
   "mimetype": "text/x-python",
   "name": "python",
   "nbconvert_exporter": "python",
   "pygments_lexer": "ipython2",
   "version": "2.7.11"
  }
 },
 "nbformat": 4,
 "nbformat_minor": 0
}
